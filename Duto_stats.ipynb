{
 "cells": [
  {
   "cell_type": "code",
   "execution_count": 1,
   "metadata": {},
   "outputs": [
    {
     "data": {
      "text/html": [
       "<div>\n",
       "<style scoped>\n",
       "    .dataframe tbody tr th:only-of-type {\n",
       "        vertical-align: middle;\n",
       "    }\n",
       "\n",
       "    .dataframe tbody tr th {\n",
       "        vertical-align: top;\n",
       "    }\n",
       "\n",
       "    .dataframe thead th {\n",
       "        text-align: right;\n",
       "    }\n",
       "</style>\n",
       "<table border=\"1\" class=\"dataframe\">\n",
       "  <thead>\n",
       "    <tr style=\"text-align: right;\">\n",
       "      <th></th>\n",
       "      <th>Player Name</th>\n",
       "      <th>Opponent ID</th>\n",
       "      <th>Date</th>\n",
       "      <th>Goals</th>\n",
       "      <th>Season</th>\n",
       "    </tr>\n",
       "  </thead>\n",
       "  <tbody>\n",
       "    <tr>\n",
       "      <th>0</th>\n",
       "      <td>Jakub Hlídek</td>\n",
       "      <td>1870</td>\n",
       "      <td>14. 11. 2019</td>\n",
       "      <td>2</td>\n",
       "      <td>49</td>\n",
       "    </tr>\n",
       "    <tr>\n",
       "      <th>1</th>\n",
       "      <td>Vít Pazderník</td>\n",
       "      <td>1870</td>\n",
       "      <td>14. 11. 2019</td>\n",
       "      <td>1</td>\n",
       "      <td>49</td>\n",
       "    </tr>\n",
       "    <tr>\n",
       "      <th>2</th>\n",
       "      <td>Jakub Rosol</td>\n",
       "      <td>1870</td>\n",
       "      <td>14. 11. 2019</td>\n",
       "      <td>0</td>\n",
       "      <td>49</td>\n",
       "    </tr>\n",
       "    <tr>\n",
       "      <th>3</th>\n",
       "      <td>Jan Čapek</td>\n",
       "      <td>1870</td>\n",
       "      <td>14. 11. 2019</td>\n",
       "      <td>0</td>\n",
       "      <td>49</td>\n",
       "    </tr>\n",
       "    <tr>\n",
       "      <th>4</th>\n",
       "      <td>Filip Peloušek</td>\n",
       "      <td>1870</td>\n",
       "      <td>14. 11. 2019</td>\n",
       "      <td>0</td>\n",
       "      <td>49</td>\n",
       "    </tr>\n",
       "    <tr>\n",
       "      <th>...</th>\n",
       "      <td>...</td>\n",
       "      <td>...</td>\n",
       "      <td>...</td>\n",
       "      <td>...</td>\n",
       "      <td>...</td>\n",
       "    </tr>\n",
       "    <tr>\n",
       "      <th>531</th>\n",
       "      <td>Jan Čapek</td>\n",
       "      <td>1716</td>\n",
       "      <td>3. 10. 2024</td>\n",
       "      <td>0</td>\n",
       "      <td>59</td>\n",
       "    </tr>\n",
       "    <tr>\n",
       "      <th>532</th>\n",
       "      <td>Jiří Čapek</td>\n",
       "      <td>1716</td>\n",
       "      <td>3. 10. 2024</td>\n",
       "      <td>0</td>\n",
       "      <td>59</td>\n",
       "    </tr>\n",
       "    <tr>\n",
       "      <th>533</th>\n",
       "      <td>Jakub Hlídek</td>\n",
       "      <td>1716</td>\n",
       "      <td>3. 10. 2024</td>\n",
       "      <td>0</td>\n",
       "      <td>59</td>\n",
       "    </tr>\n",
       "    <tr>\n",
       "      <th>534</th>\n",
       "      <td>Jakub Čapek</td>\n",
       "      <td>1716</td>\n",
       "      <td>3. 10. 2024</td>\n",
       "      <td>0</td>\n",
       "      <td>59</td>\n",
       "    </tr>\n",
       "    <tr>\n",
       "      <th>535</th>\n",
       "      <td>Jakub Rosol</td>\n",
       "      <td>1716</td>\n",
       "      <td>3. 10. 2024</td>\n",
       "      <td>0</td>\n",
       "      <td>59</td>\n",
       "    </tr>\n",
       "  </tbody>\n",
       "</table>\n",
       "<p>536 rows × 5 columns</p>\n",
       "</div>"
      ],
      "text/plain": [
       "        Player Name Opponent ID          Date Goals  Season\n",
       "0      Jakub Hlídek        1870  14. 11. 2019     2      49\n",
       "1     Vít Pazderník        1870  14. 11. 2019     1      49\n",
       "2       Jakub Rosol        1870  14. 11. 2019     0      49\n",
       "3         Jan Čapek        1870  14. 11. 2019     0      49\n",
       "4    Filip Peloušek        1870  14. 11. 2019     0      49\n",
       "..              ...         ...           ...   ...     ...\n",
       "531       Jan Čapek        1716   3. 10. 2024     0      59\n",
       "532      Jiří Čapek        1716   3. 10. 2024     0      59\n",
       "533    Jakub Hlídek        1716   3. 10. 2024     0      59\n",
       "534     Jakub Čapek        1716   3. 10. 2024     0      59\n",
       "535     Jakub Rosol        1716   3. 10. 2024     0      59\n",
       "\n",
       "[536 rows x 5 columns]"
      ]
     },
     "execution_count": 1,
     "metadata": {},
     "output_type": "execute_result"
    }
   ],
   "source": [
    "# %%\n",
    "import requests\n",
    "from bs4 import BeautifulSoup\n",
    "import pandas as pd\n",
    "import numpy as np\n",
    "import re\n",
    "import seaborn as sns\n",
    "import matplotlib.pyplot as plt\n",
    "import dash as go\n",
    "import plotly.express as px\n",
    "\n",
    "# Define season URLs\n",
    "season_urls = {\n",
    "    49: \"https://strahovskaliga.cz/TymProfil/?TID=1882&YID=38\",\n",
    "    50: \"https://strahovskaliga.cz/TymProfil/?TID=1882&YID=39\",\n",
    "    53: \"https://strahovskaliga.cz/TymProfil/?TID=1882&YID=40\",\n",
    "    54: \"https://strahovskaliga.cz/TymProfil/?TID=1882&YID=41\",\n",
    "    55: \"https://strahovskaliga.cz/TymProfil/?TID=1882&YID=42\",\n",
    "    56: \"https://strahovskaliga.cz/TymProfil/?TID=1882&YID=43\",\n",
    "    57: \"https://strahovskaliga.cz/TymProfil/?TID=1882&YID=44\",\n",
    "    58: \"https://strahovskaliga.cz/TymProfil/?TID=1882&YID=45\",\n",
    "    59: \"https://strahovskaliga.cz/TymProfil/?TID=1882\"  # current season\n",
    "}\n",
    "\n",
    "# Prepare to store match data\n",
    "all_matches = []\n",
    "\n",
    "# Function to get team players for a season\n",
    "def get_team_players(soup):\n",
    "    players = []\n",
    "    players_table = next((table for table in soup.find_all(\"table\", class_=\"table\") if \"Jméno\" in [th.get_text() for th in table.find_all(\"th\")]), None)\n",
    "    if players_table:\n",
    "        for row in players_table.find(\"tbody\").find_all(\"tr\"):\n",
    "            cells = row.find_all(\"td\")\n",
    "            if len(cells) >= 2:\n",
    "                players.append(cells[1].get_text(strip=True))\n",
    "    return players\n",
    "\n",
    "# Function to extract match details\n",
    "def get_match_details(match_url, team_players, season):\n",
    "    match_data = []\n",
    "    match_response = requests.get(match_url)\n",
    "    match_response.encoding = 'windows-1250'\n",
    "    match_soup = BeautifulSoup(match_response.text, \"html.parser\")\n",
    "    \n",
    "    team_links = match_soup.find_all(\"a\", href=re.compile(r\"/TymProfil/\\?TID=\\d+\"))\n",
    "    if len(team_links) < 2:\n",
    "        return match_data\n",
    "    \n",
    "    # Determine team and opponent IDs\n",
    "    team1_id = re.search(r\"TID=(\\d+)\", team_links[0][\"href\"]).group(1)\n",
    "    team2_id = re.search(r\"TID=(\\d+)\", team_links[1][\"href\"]).group(1)\n",
    "    your_team_id, opponent_id = (team1_id, team2_id) if team1_id == \"1882\" else (team2_id, team1_id)\n",
    "\n",
    "    date = match_soup.find(\"td\").get_text(strip=True).split('-')[0].strip()\n",
    "    goals = match_soup.find(\"h2\", style=\"font-size: 40px;\").get_text(strip=True)\n",
    "\n",
    "    for team_div in match_soup.find_all(\"div\", class_=\"pole\"):\n",
    "        player_table = team_div.find(\"table\", class_=\"table-hover\")\n",
    "        if player_table:\n",
    "            for row in player_table.find(\"tbody\").find_all(\"tr\"):\n",
    "                cells = row.find_all(\"td\")\n",
    "                if len(cells) >= 3:\n",
    "                    player_name = cells[1].get_text(strip=True)\n",
    "                    player_goals = cells[2].get_text(strip=True) if cells[2].get_text(strip=True) else np.nan\n",
    "                    if player_name in team_players:\n",
    "                        match_data.append({\"Player Name\": player_name, \"Opponent ID\": opponent_id, \"Date\": date, \"Goals\": player_goals, \"Season\": season})\n",
    "    return match_data\n",
    "\n",
    "# Loop through each season to gather data\n",
    "for season, url in season_urls.items():\n",
    "    response = requests.get(url)\n",
    "    response.encoding = 'windows-1250'\n",
    "    soup = BeautifulSoup(response.text, \"html.parser\")\n",
    "    \n",
    "    team_players = get_team_players(soup)\n",
    "    match_rows = soup.find_all(\"tr\", {\"title\": \"Detail Zapasu\"})\n",
    "    \n",
    "    for row in match_rows:\n",
    "        match_id = row.get(\"id\")\n",
    "        if match_id:\n",
    "            match_url = f\"https://strahovskaliga.cz/DetailZapasu/?MID={match_id}\"\n",
    "            all_matches.extend(get_match_details(match_url, team_players, season))\n",
    "player_goals = pd.DataFrame(all_matches)\n",
    "\n",
    "player_goals"
   ]
  },
  {
   "cell_type": "code",
   "execution_count": 13,
   "metadata": {},
   "outputs": [
    {
     "data": {
      "text/html": [
       "<div>\n",
       "<style scoped>\n",
       "    .dataframe tbody tr th:only-of-type {\n",
       "        vertical-align: middle;\n",
       "    }\n",
       "\n",
       "    .dataframe tbody tr th {\n",
       "        vertical-align: top;\n",
       "    }\n",
       "\n",
       "    .dataframe thead th {\n",
       "        text-align: right;\n",
       "    }\n",
       "</style>\n",
       "<table border=\"1\" class=\"dataframe\">\n",
       "  <thead>\n",
       "    <tr style=\"text-align: right;\">\n",
       "      <th></th>\n",
       "      <th>Player Name</th>\n",
       "      <th>Opponent ID</th>\n",
       "      <th>Date</th>\n",
       "      <th>Goals</th>\n",
       "      <th>Season</th>\n",
       "      <th>Opponent Name</th>\n",
       "    </tr>\n",
       "  </thead>\n",
       "  <tbody>\n",
       "    <tr>\n",
       "      <th>0</th>\n",
       "      <td>Jakub Hlídek</td>\n",
       "      <td>1870</td>\n",
       "      <td>14. 11. 2019</td>\n",
       "      <td>2</td>\n",
       "      <td>49</td>\n",
       "      <td>Dopravka United</td>\n",
       "    </tr>\n",
       "    <tr>\n",
       "      <th>1</th>\n",
       "      <td>Vít Pazderník</td>\n",
       "      <td>1870</td>\n",
       "      <td>14. 11. 2019</td>\n",
       "      <td>1</td>\n",
       "      <td>49</td>\n",
       "      <td>Dopravka United</td>\n",
       "    </tr>\n",
       "    <tr>\n",
       "      <th>2</th>\n",
       "      <td>Jakub Rosol</td>\n",
       "      <td>1870</td>\n",
       "      <td>14. 11. 2019</td>\n",
       "      <td>0</td>\n",
       "      <td>49</td>\n",
       "      <td>Dopravka United</td>\n",
       "    </tr>\n",
       "    <tr>\n",
       "      <th>3</th>\n",
       "      <td>Jan Čapek</td>\n",
       "      <td>1870</td>\n",
       "      <td>14. 11. 2019</td>\n",
       "      <td>0</td>\n",
       "      <td>49</td>\n",
       "      <td>Dopravka United</td>\n",
       "    </tr>\n",
       "    <tr>\n",
       "      <th>4</th>\n",
       "      <td>Filip Peloušek</td>\n",
       "      <td>1870</td>\n",
       "      <td>14. 11. 2019</td>\n",
       "      <td>0</td>\n",
       "      <td>49</td>\n",
       "      <td>Dopravka United</td>\n",
       "    </tr>\n",
       "    <tr>\n",
       "      <th>...</th>\n",
       "      <td>...</td>\n",
       "      <td>...</td>\n",
       "      <td>...</td>\n",
       "      <td>...</td>\n",
       "      <td>...</td>\n",
       "      <td>...</td>\n",
       "    </tr>\n",
       "    <tr>\n",
       "      <th>531</th>\n",
       "      <td>Jan Čapek</td>\n",
       "      <td>1716</td>\n",
       "      <td>3. 10. 2024</td>\n",
       "      <td>0</td>\n",
       "      <td>59</td>\n",
       "      <td>Psi</td>\n",
       "    </tr>\n",
       "    <tr>\n",
       "      <th>532</th>\n",
       "      <td>Jiří Čapek</td>\n",
       "      <td>1716</td>\n",
       "      <td>3. 10. 2024</td>\n",
       "      <td>0</td>\n",
       "      <td>59</td>\n",
       "      <td>Psi</td>\n",
       "    </tr>\n",
       "    <tr>\n",
       "      <th>533</th>\n",
       "      <td>Jakub Hlídek</td>\n",
       "      <td>1716</td>\n",
       "      <td>3. 10. 2024</td>\n",
       "      <td>0</td>\n",
       "      <td>59</td>\n",
       "      <td>Psi</td>\n",
       "    </tr>\n",
       "    <tr>\n",
       "      <th>534</th>\n",
       "      <td>Jakub Čapek</td>\n",
       "      <td>1716</td>\n",
       "      <td>3. 10. 2024</td>\n",
       "      <td>0</td>\n",
       "      <td>59</td>\n",
       "      <td>Psi</td>\n",
       "    </tr>\n",
       "    <tr>\n",
       "      <th>535</th>\n",
       "      <td>Jakub Rosol</td>\n",
       "      <td>1716</td>\n",
       "      <td>3. 10. 2024</td>\n",
       "      <td>0</td>\n",
       "      <td>59</td>\n",
       "      <td>Psi</td>\n",
       "    </tr>\n",
       "  </tbody>\n",
       "</table>\n",
       "<p>536 rows × 6 columns</p>\n",
       "</div>"
      ],
      "text/plain": [
       "        Player Name Opponent ID          Date Goals  Season    Opponent Name\n",
       "0      Jakub Hlídek        1870  14. 11. 2019     2      49  Dopravka United\n",
       "1     Vít Pazderník        1870  14. 11. 2019     1      49  Dopravka United\n",
       "2       Jakub Rosol        1870  14. 11. 2019     0      49  Dopravka United\n",
       "3         Jan Čapek        1870  14. 11. 2019     0      49  Dopravka United\n",
       "4    Filip Peloušek        1870  14. 11. 2019     0      49  Dopravka United\n",
       "..              ...         ...           ...   ...     ...              ...\n",
       "531       Jan Čapek        1716   3. 10. 2024     0      59              Psi\n",
       "532      Jiří Čapek        1716   3. 10. 2024     0      59              Psi\n",
       "533    Jakub Hlídek        1716   3. 10. 2024     0      59              Psi\n",
       "534     Jakub Čapek        1716   3. 10. 2024     0      59              Psi\n",
       "535     Jakub Rosol        1716   3. 10. 2024     0      59              Psi\n",
       "\n",
       "[536 rows x 6 columns]"
      ]
     },
     "execution_count": 13,
     "metadata": {},
     "output_type": "execute_result"
    }
   ],
   "source": [
    "# Fetch the page content\n",
    "url = \"https://strahovskaliga.cz/Liga/?LID=4\"\n",
    "response = requests.get(url)\n",
    "soup = BeautifulSoup(response.content, 'html.parser')\n",
    "\n",
    "# Extract opponent IDs from player_goals\n",
    "opponent_ids = player_goals['Opponent ID'].unique()\n",
    "\n",
    "# Initialize list for opponent data\n",
    "opponents = []\n",
    "\n",
    "# Find all team links in the league page\n",
    "team_links = soup.find_all('a', href=re.compile(r'TymProfil/\\?TID=\\d+'))\n",
    "\n",
    "# Iterate over each link to extract team information\n",
    "for link in team_links:\n",
    "    href = link.get('href', '')\n",
    "    team_id_match = re.search(r'TID=(\\d+)', href)\n",
    "    if team_id_match:\n",
    "        team_id = team_id_match.group(1)\n",
    "        # Only add teams that are in opponent_ids\n",
    "        if team_id in opponent_ids:\n",
    "            team_name = link.get_text(strip=True)\n",
    "            opponents.append({'Opponent ID': team_id, 'Opponent Name': team_name})\n",
    "\n",
    "# Convert to DataFrame\n",
    "opponents_df = pd.DataFrame(opponents)\n",
    "\n",
    "# Merge opponent data with player_goals\n",
    "player_goals = player_goals.merge(opponents_df, on='Opponent ID', how='left')\n",
    "\n",
    "player_goals\n",
    "\n"
   ]
  },
  {
   "cell_type": "code",
   "execution_count": 14,
   "metadata": {},
   "outputs": [],
   "source": [
    "player_goals['Goals'] = pd.to_numeric(player_goals['Goals'], errors='coerce')\n",
    "player_goals['Date'] = pd.to_datetime(player_goals['Date'], format='%d. %m. %Y')\n",
    "\n",
    "# Modify the data to correct the goals for the specified players\n",
    "player_goals.loc[((player_goals['Date'] == '14.11.2024') & (player_goals['Player Name'] == 'Martin Žlábek' )),'Goals'] = 1\n",
    "\n",
    "player_goals.loc[((player_goals['Date'] == '14.11.2024') & (player_goals['Player Name'] == 'Jiří Čapek' )),'Goals'] = 0\n",
    "\n",
    "player_goals.loc[((player_goals['Date'] == '14.11.2024') & (player_goals['Player Name'] == 'Jiří Čapek' )),'Goals'] = 0"
   ]
  },
  {
   "cell_type": "code",
   "execution_count": 15,
   "metadata": {},
   "outputs": [
    {
     "data": {
      "application/vnd.plotly.v1+json": {
       "config": {
        "plotlyServerURL": "https://plot.ly"
       },
       "data": [
        {
         "alignmentgroup": "True",
         "cliponaxis": false,
         "hovertemplate": "Player Name=%{text}<br>Season=%{x}<br>Goals=%{y}<extra></extra>",
         "legendgroup": "Jakub Hlídek",
         "marker": {
          "color": "#636efa",
          "pattern": {
           "shape": ""
          }
         },
         "name": "Jakub Hlídek",
         "offsetgroup": "Jakub Hlídek",
         "orientation": "v",
         "showlegend": false,
         "text": [
          "Jakub Hlídek",
          "Jakub Hlídek",
          "Jakub Hlídek",
          "Jakub Hlídek",
          "Jakub Hlídek",
          "Jakub Hlídek"
         ],
         "textangle": 0,
         "textfont": {
          "size": 12
         },
         "textposition": "outside",
         "type": "bar",
         "x": [
          "49",
          "53",
          "55",
          "56",
          "57",
          "58"
         ],
         "xaxis": "x",
         "y": [
          7,
          8,
          8,
          11,
          9,
          10
         ],
         "yaxis": "y"
        },
        {
         "alignmentgroup": "True",
         "cliponaxis": false,
         "hovertemplate": "Player Name=%{text}<br>Season=%{x}<br>Goals=%{y}<extra></extra>",
         "legendgroup": "Adam Slavíček",
         "marker": {
          "color": "#EF553B",
          "pattern": {
           "shape": ""
          }
         },
         "name": "Adam Slavíček",
         "offsetgroup": "Adam Slavíček",
         "orientation": "v",
         "showlegend": false,
         "text": [
          "Adam Slavíček",
          "Adam Slavíček"
         ],
         "textangle": 0,
         "textfont": {
          "size": 12
         },
         "textposition": "outside",
         "type": "bar",
         "x": [
          "50",
          "54"
         ],
         "xaxis": "x",
         "y": [
          1,
          4
         ],
         "yaxis": "y"
        },
        {
         "alignmentgroup": "True",
         "cliponaxis": false,
         "hovertemplate": "Player Name=%{text}<br>Season=%{x}<br>Goals=%{y}<extra></extra>",
         "legendgroup": "Martin Žlábek",
         "marker": {
          "color": "#00cc96",
          "pattern": {
           "shape": ""
          }
         },
         "name": "Martin Žlábek",
         "offsetgroup": "Martin Žlábek",
         "orientation": "v",
         "showlegend": false,
         "text": [
          "Martin Žlábek"
         ],
         "textangle": 0,
         "textfont": {
          "size": 12
         },
         "textposition": "outside",
         "type": "bar",
         "x": [
          "59"
         ],
         "xaxis": "x",
         "y": [
          7
         ],
         "yaxis": "y"
        }
       ],
       "layout": {
        "barmode": "relative",
        "legend": {
         "title": {
          "text": "Player Name"
         },
         "tracegroupgap": 0
        },
        "template": {
         "data": {
          "bar": [
           {
            "error_x": {
             "color": "#2a3f5f"
            },
            "error_y": {
             "color": "#2a3f5f"
            },
            "marker": {
             "line": {
              "color": "#E5ECF6",
              "width": 0.5
             },
             "pattern": {
              "fillmode": "overlay",
              "size": 10,
              "solidity": 0.2
             }
            },
            "type": "bar"
           }
          ],
          "barpolar": [
           {
            "marker": {
             "line": {
              "color": "#E5ECF6",
              "width": 0.5
             },
             "pattern": {
              "fillmode": "overlay",
              "size": 10,
              "solidity": 0.2
             }
            },
            "type": "barpolar"
           }
          ],
          "carpet": [
           {
            "aaxis": {
             "endlinecolor": "#2a3f5f",
             "gridcolor": "white",
             "linecolor": "white",
             "minorgridcolor": "white",
             "startlinecolor": "#2a3f5f"
            },
            "baxis": {
             "endlinecolor": "#2a3f5f",
             "gridcolor": "white",
             "linecolor": "white",
             "minorgridcolor": "white",
             "startlinecolor": "#2a3f5f"
            },
            "type": "carpet"
           }
          ],
          "choropleth": [
           {
            "colorbar": {
             "outlinewidth": 0,
             "ticks": ""
            },
            "type": "choropleth"
           }
          ],
          "contour": [
           {
            "colorbar": {
             "outlinewidth": 0,
             "ticks": ""
            },
            "colorscale": [
             [
              0,
              "#0d0887"
             ],
             [
              0.1111111111111111,
              "#46039f"
             ],
             [
              0.2222222222222222,
              "#7201a8"
             ],
             [
              0.3333333333333333,
              "#9c179e"
             ],
             [
              0.4444444444444444,
              "#bd3786"
             ],
             [
              0.5555555555555556,
              "#d8576b"
             ],
             [
              0.6666666666666666,
              "#ed7953"
             ],
             [
              0.7777777777777778,
              "#fb9f3a"
             ],
             [
              0.8888888888888888,
              "#fdca26"
             ],
             [
              1,
              "#f0f921"
             ]
            ],
            "type": "contour"
           }
          ],
          "contourcarpet": [
           {
            "colorbar": {
             "outlinewidth": 0,
             "ticks": ""
            },
            "type": "contourcarpet"
           }
          ],
          "heatmap": [
           {
            "colorbar": {
             "outlinewidth": 0,
             "ticks": ""
            },
            "colorscale": [
             [
              0,
              "#0d0887"
             ],
             [
              0.1111111111111111,
              "#46039f"
             ],
             [
              0.2222222222222222,
              "#7201a8"
             ],
             [
              0.3333333333333333,
              "#9c179e"
             ],
             [
              0.4444444444444444,
              "#bd3786"
             ],
             [
              0.5555555555555556,
              "#d8576b"
             ],
             [
              0.6666666666666666,
              "#ed7953"
             ],
             [
              0.7777777777777778,
              "#fb9f3a"
             ],
             [
              0.8888888888888888,
              "#fdca26"
             ],
             [
              1,
              "#f0f921"
             ]
            ],
            "type": "heatmap"
           }
          ],
          "heatmapgl": [
           {
            "colorbar": {
             "outlinewidth": 0,
             "ticks": ""
            },
            "colorscale": [
             [
              0,
              "#0d0887"
             ],
             [
              0.1111111111111111,
              "#46039f"
             ],
             [
              0.2222222222222222,
              "#7201a8"
             ],
             [
              0.3333333333333333,
              "#9c179e"
             ],
             [
              0.4444444444444444,
              "#bd3786"
             ],
             [
              0.5555555555555556,
              "#d8576b"
             ],
             [
              0.6666666666666666,
              "#ed7953"
             ],
             [
              0.7777777777777778,
              "#fb9f3a"
             ],
             [
              0.8888888888888888,
              "#fdca26"
             ],
             [
              1,
              "#f0f921"
             ]
            ],
            "type": "heatmapgl"
           }
          ],
          "histogram": [
           {
            "marker": {
             "pattern": {
              "fillmode": "overlay",
              "size": 10,
              "solidity": 0.2
             }
            },
            "type": "histogram"
           }
          ],
          "histogram2d": [
           {
            "colorbar": {
             "outlinewidth": 0,
             "ticks": ""
            },
            "colorscale": [
             [
              0,
              "#0d0887"
             ],
             [
              0.1111111111111111,
              "#46039f"
             ],
             [
              0.2222222222222222,
              "#7201a8"
             ],
             [
              0.3333333333333333,
              "#9c179e"
             ],
             [
              0.4444444444444444,
              "#bd3786"
             ],
             [
              0.5555555555555556,
              "#d8576b"
             ],
             [
              0.6666666666666666,
              "#ed7953"
             ],
             [
              0.7777777777777778,
              "#fb9f3a"
             ],
             [
              0.8888888888888888,
              "#fdca26"
             ],
             [
              1,
              "#f0f921"
             ]
            ],
            "type": "histogram2d"
           }
          ],
          "histogram2dcontour": [
           {
            "colorbar": {
             "outlinewidth": 0,
             "ticks": ""
            },
            "colorscale": [
             [
              0,
              "#0d0887"
             ],
             [
              0.1111111111111111,
              "#46039f"
             ],
             [
              0.2222222222222222,
              "#7201a8"
             ],
             [
              0.3333333333333333,
              "#9c179e"
             ],
             [
              0.4444444444444444,
              "#bd3786"
             ],
             [
              0.5555555555555556,
              "#d8576b"
             ],
             [
              0.6666666666666666,
              "#ed7953"
             ],
             [
              0.7777777777777778,
              "#fb9f3a"
             ],
             [
              0.8888888888888888,
              "#fdca26"
             ],
             [
              1,
              "#f0f921"
             ]
            ],
            "type": "histogram2dcontour"
           }
          ],
          "mesh3d": [
           {
            "colorbar": {
             "outlinewidth": 0,
             "ticks": ""
            },
            "type": "mesh3d"
           }
          ],
          "parcoords": [
           {
            "line": {
             "colorbar": {
              "outlinewidth": 0,
              "ticks": ""
             }
            },
            "type": "parcoords"
           }
          ],
          "pie": [
           {
            "automargin": true,
            "type": "pie"
           }
          ],
          "scatter": [
           {
            "fillpattern": {
             "fillmode": "overlay",
             "size": 10,
             "solidity": 0.2
            },
            "type": "scatter"
           }
          ],
          "scatter3d": [
           {
            "line": {
             "colorbar": {
              "outlinewidth": 0,
              "ticks": ""
             }
            },
            "marker": {
             "colorbar": {
              "outlinewidth": 0,
              "ticks": ""
             }
            },
            "type": "scatter3d"
           }
          ],
          "scattercarpet": [
           {
            "marker": {
             "colorbar": {
              "outlinewidth": 0,
              "ticks": ""
             }
            },
            "type": "scattercarpet"
           }
          ],
          "scattergeo": [
           {
            "marker": {
             "colorbar": {
              "outlinewidth": 0,
              "ticks": ""
             }
            },
            "type": "scattergeo"
           }
          ],
          "scattergl": [
           {
            "marker": {
             "colorbar": {
              "outlinewidth": 0,
              "ticks": ""
             }
            },
            "type": "scattergl"
           }
          ],
          "scattermapbox": [
           {
            "marker": {
             "colorbar": {
              "outlinewidth": 0,
              "ticks": ""
             }
            },
            "type": "scattermapbox"
           }
          ],
          "scatterpolar": [
           {
            "marker": {
             "colorbar": {
              "outlinewidth": 0,
              "ticks": ""
             }
            },
            "type": "scatterpolar"
           }
          ],
          "scatterpolargl": [
           {
            "marker": {
             "colorbar": {
              "outlinewidth": 0,
              "ticks": ""
             }
            },
            "type": "scatterpolargl"
           }
          ],
          "scatterternary": [
           {
            "marker": {
             "colorbar": {
              "outlinewidth": 0,
              "ticks": ""
             }
            },
            "type": "scatterternary"
           }
          ],
          "surface": [
           {
            "colorbar": {
             "outlinewidth": 0,
             "ticks": ""
            },
            "colorscale": [
             [
              0,
              "#0d0887"
             ],
             [
              0.1111111111111111,
              "#46039f"
             ],
             [
              0.2222222222222222,
              "#7201a8"
             ],
             [
              0.3333333333333333,
              "#9c179e"
             ],
             [
              0.4444444444444444,
              "#bd3786"
             ],
             [
              0.5555555555555556,
              "#d8576b"
             ],
             [
              0.6666666666666666,
              "#ed7953"
             ],
             [
              0.7777777777777778,
              "#fb9f3a"
             ],
             [
              0.8888888888888888,
              "#fdca26"
             ],
             [
              1,
              "#f0f921"
             ]
            ],
            "type": "surface"
           }
          ],
          "table": [
           {
            "cells": {
             "fill": {
              "color": "#EBF0F8"
             },
             "line": {
              "color": "white"
             }
            },
            "header": {
             "fill": {
              "color": "#C8D4E3"
             },
             "line": {
              "color": "white"
             }
            },
            "type": "table"
           }
          ]
         },
         "layout": {
          "annotationdefaults": {
           "arrowcolor": "#2a3f5f",
           "arrowhead": 0,
           "arrowwidth": 1
          },
          "autotypenumbers": "strict",
          "coloraxis": {
           "colorbar": {
            "outlinewidth": 0,
            "ticks": ""
           }
          },
          "colorscale": {
           "diverging": [
            [
             0,
             "#8e0152"
            ],
            [
             0.1,
             "#c51b7d"
            ],
            [
             0.2,
             "#de77ae"
            ],
            [
             0.3,
             "#f1b6da"
            ],
            [
             0.4,
             "#fde0ef"
            ],
            [
             0.5,
             "#f7f7f7"
            ],
            [
             0.6,
             "#e6f5d0"
            ],
            [
             0.7,
             "#b8e186"
            ],
            [
             0.8,
             "#7fbc41"
            ],
            [
             0.9,
             "#4d9221"
            ],
            [
             1,
             "#276419"
            ]
           ],
           "sequential": [
            [
             0,
             "#0d0887"
            ],
            [
             0.1111111111111111,
             "#46039f"
            ],
            [
             0.2222222222222222,
             "#7201a8"
            ],
            [
             0.3333333333333333,
             "#9c179e"
            ],
            [
             0.4444444444444444,
             "#bd3786"
            ],
            [
             0.5555555555555556,
             "#d8576b"
            ],
            [
             0.6666666666666666,
             "#ed7953"
            ],
            [
             0.7777777777777778,
             "#fb9f3a"
            ],
            [
             0.8888888888888888,
             "#fdca26"
            ],
            [
             1,
             "#f0f921"
            ]
           ],
           "sequentialminus": [
            [
             0,
             "#0d0887"
            ],
            [
             0.1111111111111111,
             "#46039f"
            ],
            [
             0.2222222222222222,
             "#7201a8"
            ],
            [
             0.3333333333333333,
             "#9c179e"
            ],
            [
             0.4444444444444444,
             "#bd3786"
            ],
            [
             0.5555555555555556,
             "#d8576b"
            ],
            [
             0.6666666666666666,
             "#ed7953"
            ],
            [
             0.7777777777777778,
             "#fb9f3a"
            ],
            [
             0.8888888888888888,
             "#fdca26"
            ],
            [
             1,
             "#f0f921"
            ]
           ]
          },
          "colorway": [
           "#636efa",
           "#EF553B",
           "#00cc96",
           "#ab63fa",
           "#FFA15A",
           "#19d3f3",
           "#FF6692",
           "#B6E880",
           "#FF97FF",
           "#FECB52"
          ],
          "font": {
           "color": "#2a3f5f"
          },
          "geo": {
           "bgcolor": "white",
           "lakecolor": "white",
           "landcolor": "#E5ECF6",
           "showlakes": true,
           "showland": true,
           "subunitcolor": "white"
          },
          "hoverlabel": {
           "align": "left"
          },
          "hovermode": "closest",
          "mapbox": {
           "style": "light"
          },
          "paper_bgcolor": "white",
          "plot_bgcolor": "#E5ECF6",
          "polar": {
           "angularaxis": {
            "gridcolor": "white",
            "linecolor": "white",
            "ticks": ""
           },
           "bgcolor": "#E5ECF6",
           "radialaxis": {
            "gridcolor": "white",
            "linecolor": "white",
            "ticks": ""
           }
          },
          "scene": {
           "xaxis": {
            "backgroundcolor": "#E5ECF6",
            "gridcolor": "white",
            "gridwidth": 2,
            "linecolor": "white",
            "showbackground": true,
            "ticks": "",
            "zerolinecolor": "white"
           },
           "yaxis": {
            "backgroundcolor": "#E5ECF6",
            "gridcolor": "white",
            "gridwidth": 2,
            "linecolor": "white",
            "showbackground": true,
            "ticks": "",
            "zerolinecolor": "white"
           },
           "zaxis": {
            "backgroundcolor": "#E5ECF6",
            "gridcolor": "white",
            "gridwidth": 2,
            "linecolor": "white",
            "showbackground": true,
            "ticks": "",
            "zerolinecolor": "white"
           }
          },
          "shapedefaults": {
           "line": {
            "color": "#2a3f5f"
           }
          },
          "ternary": {
           "aaxis": {
            "gridcolor": "white",
            "linecolor": "white",
            "ticks": ""
           },
           "baxis": {
            "gridcolor": "white",
            "linecolor": "white",
            "ticks": ""
           },
           "bgcolor": "#E5ECF6",
           "caxis": {
            "gridcolor": "white",
            "linecolor": "white",
            "ticks": ""
           }
          },
          "title": {
           "x": 0.05
          },
          "xaxis": {
           "automargin": true,
           "gridcolor": "white",
           "linecolor": "white",
           "ticks": "",
           "title": {
            "standoff": 15
           },
           "zerolinecolor": "white",
           "zerolinewidth": 2
          },
          "yaxis": {
           "automargin": true,
           "gridcolor": "white",
           "linecolor": "white",
           "ticks": "",
           "title": {
            "standoff": 15
           },
           "zerolinecolor": "white",
           "zerolinewidth": 2
          }
         }
        },
        "title": {
         "text": "Top Player by Season"
        },
        "xaxis": {
         "anchor": "y",
         "categoryarray": [
          "49",
          "50",
          "53",
          "54",
          "55",
          "56",
          "57",
          "58",
          "59"
         ],
         "categoryorder": "array",
         "domain": [
          0,
          1
         ],
         "title": {
          "text": "Season"
         }
        },
        "yaxis": {
         "anchor": "x",
         "domain": [
          0,
          1
         ],
         "title": {
          "text": "Goals"
         }
        }
       }
      }
     },
     "metadata": {},
     "output_type": "display_data"
    }
   ],
   "source": [
    "# Calculate total goals per player per season\n",
    "season_player_totals = player_goals.groupby(['Season', 'Player Name'])['Goals'].sum().reset_index()\n",
    "\n",
    "# Identify top player for each season\n",
    "top_players_per_season = season_player_totals.loc[season_player_totals.groupby('Season')['Goals'].idxmax()]\n",
    "\n",
    "# Filter out rows with no data in the 'Goals' column\n",
    "top_players_per_season = top_players_per_season[top_players_per_season['Goals'] > 0]\n",
    "\n",
    "# Sort the 'Season' column and convert it to a string to avoid numerical gaps\n",
    "top_players_per_season['Season'] = top_players_per_season['Season'].astype(str)\n",
    "unique_seasons = top_players_per_season['Season'].unique()\n",
    "\n",
    "# Create the bar chart\n",
    "fig = px.bar(\n",
    "    top_players_per_season,\n",
    "    x='Season',\n",
    "    y='Goals',\n",
    "    color='Player Name',\n",
    "    text='Player Name',\n",
    "    title='Top Player by Season',\n",
    "    category_orders={'Season': unique_seasons}  # Ensure only these seasons are shown in the specified order\n",
    ")\n",
    "\n",
    "# Update the plot to customize text and x-axis\n",
    "fig.update_traces(textfont_size=12, textangle=0, textposition=\"outside\", cliponaxis=False, showlegend=False)\n",
    "\n",
    "# Show the plot\n",
    "fig.show()"
   ]
  },
  {
   "cell_type": "code",
   "execution_count": 16,
   "metadata": {},
   "outputs": [
    {
     "data": {
      "application/vnd.plotly.v1+json": {
       "config": {
        "plotlyServerURL": "https://plot.ly"
       },
       "data": [
        {
         "error_y": {
          "array": [
           3.100179206289712,
           2.3166067138525404,
           1.5634719199411433,
           2.7748873851023212,
           1.8027756377319946,
           1.2692955176439846,
           1.4142135623730951,
           1.4960264830861913,
           0.7867957924694431,
           1.0690449676496976,
           0.7264831572567789,
           0.5270462766947299,
           0.7867957924694432,
           0,
           0,
           0,
           0
          ]
         },
         "hovertemplate": "Player Name=%{x}<br>Average Goals Per Season=%{y}<extra></extra>",
         "legendgroup": "",
         "marker": {
          "color": "#636efa",
          "symbol": "circle"
         },
         "mode": "markers",
         "name": "",
         "orientation": "v",
         "showlegend": false,
         "type": "scatter",
         "x": [
          "Jakub Hlídek",
          "Vít Kozák",
          "Adam Slavíček",
          "Martin Žlábek",
          "Marek Polanský",
          "Jakub Čapek",
          "Vít Pazderník",
          "Jiří Čapek",
          "Lukáš Kubík",
          "Jakub Bartuška",
          "Filip Peloušek",
          "Jan Čapek",
          "Jakub Rosol",
          "Jan Dvořák",
          "Jakub Vlach",
          "Petr Švehla",
          "Matěj Hrach"
         ],
         "xaxis": "x",
         "y": [
          7.111111111111111,
          4.166666666666667,
          2.7777777777777777,
          2.2,
          1.3333333333333333,
          1.1111111111111112,
          1,
          0.7142857142857143,
          0.5714285714285714,
          0.5,
          0.4444444444444444,
          0.4444444444444444,
          0.42857142857142855,
          0,
          0,
          0,
          0
         ],
         "yaxis": "y"
        }
       ],
       "layout": {
        "legend": {
         "tracegroupgap": 0
        },
        "template": {
         "data": {
          "bar": [
           {
            "error_x": {
             "color": "#2a3f5f"
            },
            "error_y": {
             "color": "#2a3f5f"
            },
            "marker": {
             "line": {
              "color": "#E5ECF6",
              "width": 0.5
             },
             "pattern": {
              "fillmode": "overlay",
              "size": 10,
              "solidity": 0.2
             }
            },
            "type": "bar"
           }
          ],
          "barpolar": [
           {
            "marker": {
             "line": {
              "color": "#E5ECF6",
              "width": 0.5
             },
             "pattern": {
              "fillmode": "overlay",
              "size": 10,
              "solidity": 0.2
             }
            },
            "type": "barpolar"
           }
          ],
          "carpet": [
           {
            "aaxis": {
             "endlinecolor": "#2a3f5f",
             "gridcolor": "white",
             "linecolor": "white",
             "minorgridcolor": "white",
             "startlinecolor": "#2a3f5f"
            },
            "baxis": {
             "endlinecolor": "#2a3f5f",
             "gridcolor": "white",
             "linecolor": "white",
             "minorgridcolor": "white",
             "startlinecolor": "#2a3f5f"
            },
            "type": "carpet"
           }
          ],
          "choropleth": [
           {
            "colorbar": {
             "outlinewidth": 0,
             "ticks": ""
            },
            "type": "choropleth"
           }
          ],
          "contour": [
           {
            "colorbar": {
             "outlinewidth": 0,
             "ticks": ""
            },
            "colorscale": [
             [
              0,
              "#0d0887"
             ],
             [
              0.1111111111111111,
              "#46039f"
             ],
             [
              0.2222222222222222,
              "#7201a8"
             ],
             [
              0.3333333333333333,
              "#9c179e"
             ],
             [
              0.4444444444444444,
              "#bd3786"
             ],
             [
              0.5555555555555556,
              "#d8576b"
             ],
             [
              0.6666666666666666,
              "#ed7953"
             ],
             [
              0.7777777777777778,
              "#fb9f3a"
             ],
             [
              0.8888888888888888,
              "#fdca26"
             ],
             [
              1,
              "#f0f921"
             ]
            ],
            "type": "contour"
           }
          ],
          "contourcarpet": [
           {
            "colorbar": {
             "outlinewidth": 0,
             "ticks": ""
            },
            "type": "contourcarpet"
           }
          ],
          "heatmap": [
           {
            "colorbar": {
             "outlinewidth": 0,
             "ticks": ""
            },
            "colorscale": [
             [
              0,
              "#0d0887"
             ],
             [
              0.1111111111111111,
              "#46039f"
             ],
             [
              0.2222222222222222,
              "#7201a8"
             ],
             [
              0.3333333333333333,
              "#9c179e"
             ],
             [
              0.4444444444444444,
              "#bd3786"
             ],
             [
              0.5555555555555556,
              "#d8576b"
             ],
             [
              0.6666666666666666,
              "#ed7953"
             ],
             [
              0.7777777777777778,
              "#fb9f3a"
             ],
             [
              0.8888888888888888,
              "#fdca26"
             ],
             [
              1,
              "#f0f921"
             ]
            ],
            "type": "heatmap"
           }
          ],
          "heatmapgl": [
           {
            "colorbar": {
             "outlinewidth": 0,
             "ticks": ""
            },
            "colorscale": [
             [
              0,
              "#0d0887"
             ],
             [
              0.1111111111111111,
              "#46039f"
             ],
             [
              0.2222222222222222,
              "#7201a8"
             ],
             [
              0.3333333333333333,
              "#9c179e"
             ],
             [
              0.4444444444444444,
              "#bd3786"
             ],
             [
              0.5555555555555556,
              "#d8576b"
             ],
             [
              0.6666666666666666,
              "#ed7953"
             ],
             [
              0.7777777777777778,
              "#fb9f3a"
             ],
             [
              0.8888888888888888,
              "#fdca26"
             ],
             [
              1,
              "#f0f921"
             ]
            ],
            "type": "heatmapgl"
           }
          ],
          "histogram": [
           {
            "marker": {
             "pattern": {
              "fillmode": "overlay",
              "size": 10,
              "solidity": 0.2
             }
            },
            "type": "histogram"
           }
          ],
          "histogram2d": [
           {
            "colorbar": {
             "outlinewidth": 0,
             "ticks": ""
            },
            "colorscale": [
             [
              0,
              "#0d0887"
             ],
             [
              0.1111111111111111,
              "#46039f"
             ],
             [
              0.2222222222222222,
              "#7201a8"
             ],
             [
              0.3333333333333333,
              "#9c179e"
             ],
             [
              0.4444444444444444,
              "#bd3786"
             ],
             [
              0.5555555555555556,
              "#d8576b"
             ],
             [
              0.6666666666666666,
              "#ed7953"
             ],
             [
              0.7777777777777778,
              "#fb9f3a"
             ],
             [
              0.8888888888888888,
              "#fdca26"
             ],
             [
              1,
              "#f0f921"
             ]
            ],
            "type": "histogram2d"
           }
          ],
          "histogram2dcontour": [
           {
            "colorbar": {
             "outlinewidth": 0,
             "ticks": ""
            },
            "colorscale": [
             [
              0,
              "#0d0887"
             ],
             [
              0.1111111111111111,
              "#46039f"
             ],
             [
              0.2222222222222222,
              "#7201a8"
             ],
             [
              0.3333333333333333,
              "#9c179e"
             ],
             [
              0.4444444444444444,
              "#bd3786"
             ],
             [
              0.5555555555555556,
              "#d8576b"
             ],
             [
              0.6666666666666666,
              "#ed7953"
             ],
             [
              0.7777777777777778,
              "#fb9f3a"
             ],
             [
              0.8888888888888888,
              "#fdca26"
             ],
             [
              1,
              "#f0f921"
             ]
            ],
            "type": "histogram2dcontour"
           }
          ],
          "mesh3d": [
           {
            "colorbar": {
             "outlinewidth": 0,
             "ticks": ""
            },
            "type": "mesh3d"
           }
          ],
          "parcoords": [
           {
            "line": {
             "colorbar": {
              "outlinewidth": 0,
              "ticks": ""
             }
            },
            "type": "parcoords"
           }
          ],
          "pie": [
           {
            "automargin": true,
            "type": "pie"
           }
          ],
          "scatter": [
           {
            "fillpattern": {
             "fillmode": "overlay",
             "size": 10,
             "solidity": 0.2
            },
            "type": "scatter"
           }
          ],
          "scatter3d": [
           {
            "line": {
             "colorbar": {
              "outlinewidth": 0,
              "ticks": ""
             }
            },
            "marker": {
             "colorbar": {
              "outlinewidth": 0,
              "ticks": ""
             }
            },
            "type": "scatter3d"
           }
          ],
          "scattercarpet": [
           {
            "marker": {
             "colorbar": {
              "outlinewidth": 0,
              "ticks": ""
             }
            },
            "type": "scattercarpet"
           }
          ],
          "scattergeo": [
           {
            "marker": {
             "colorbar": {
              "outlinewidth": 0,
              "ticks": ""
             }
            },
            "type": "scattergeo"
           }
          ],
          "scattergl": [
           {
            "marker": {
             "colorbar": {
              "outlinewidth": 0,
              "ticks": ""
             }
            },
            "type": "scattergl"
           }
          ],
          "scattermapbox": [
           {
            "marker": {
             "colorbar": {
              "outlinewidth": 0,
              "ticks": ""
             }
            },
            "type": "scattermapbox"
           }
          ],
          "scatterpolar": [
           {
            "marker": {
             "colorbar": {
              "outlinewidth": 0,
              "ticks": ""
             }
            },
            "type": "scatterpolar"
           }
          ],
          "scatterpolargl": [
           {
            "marker": {
             "colorbar": {
              "outlinewidth": 0,
              "ticks": ""
             }
            },
            "type": "scatterpolargl"
           }
          ],
          "scatterternary": [
           {
            "marker": {
             "colorbar": {
              "outlinewidth": 0,
              "ticks": ""
             }
            },
            "type": "scatterternary"
           }
          ],
          "surface": [
           {
            "colorbar": {
             "outlinewidth": 0,
             "ticks": ""
            },
            "colorscale": [
             [
              0,
              "#0d0887"
             ],
             [
              0.1111111111111111,
              "#46039f"
             ],
             [
              0.2222222222222222,
              "#7201a8"
             ],
             [
              0.3333333333333333,
              "#9c179e"
             ],
             [
              0.4444444444444444,
              "#bd3786"
             ],
             [
              0.5555555555555556,
              "#d8576b"
             ],
             [
              0.6666666666666666,
              "#ed7953"
             ],
             [
              0.7777777777777778,
              "#fb9f3a"
             ],
             [
              0.8888888888888888,
              "#fdca26"
             ],
             [
              1,
              "#f0f921"
             ]
            ],
            "type": "surface"
           }
          ],
          "table": [
           {
            "cells": {
             "fill": {
              "color": "#EBF0F8"
             },
             "line": {
              "color": "white"
             }
            },
            "header": {
             "fill": {
              "color": "#C8D4E3"
             },
             "line": {
              "color": "white"
             }
            },
            "type": "table"
           }
          ]
         },
         "layout": {
          "annotationdefaults": {
           "arrowcolor": "#2a3f5f",
           "arrowhead": 0,
           "arrowwidth": 1
          },
          "autotypenumbers": "strict",
          "coloraxis": {
           "colorbar": {
            "outlinewidth": 0,
            "ticks": ""
           }
          },
          "colorscale": {
           "diverging": [
            [
             0,
             "#8e0152"
            ],
            [
             0.1,
             "#c51b7d"
            ],
            [
             0.2,
             "#de77ae"
            ],
            [
             0.3,
             "#f1b6da"
            ],
            [
             0.4,
             "#fde0ef"
            ],
            [
             0.5,
             "#f7f7f7"
            ],
            [
             0.6,
             "#e6f5d0"
            ],
            [
             0.7,
             "#b8e186"
            ],
            [
             0.8,
             "#7fbc41"
            ],
            [
             0.9,
             "#4d9221"
            ],
            [
             1,
             "#276419"
            ]
           ],
           "sequential": [
            [
             0,
             "#0d0887"
            ],
            [
             0.1111111111111111,
             "#46039f"
            ],
            [
             0.2222222222222222,
             "#7201a8"
            ],
            [
             0.3333333333333333,
             "#9c179e"
            ],
            [
             0.4444444444444444,
             "#bd3786"
            ],
            [
             0.5555555555555556,
             "#d8576b"
            ],
            [
             0.6666666666666666,
             "#ed7953"
            ],
            [
             0.7777777777777778,
             "#fb9f3a"
            ],
            [
             0.8888888888888888,
             "#fdca26"
            ],
            [
             1,
             "#f0f921"
            ]
           ],
           "sequentialminus": [
            [
             0,
             "#0d0887"
            ],
            [
             0.1111111111111111,
             "#46039f"
            ],
            [
             0.2222222222222222,
             "#7201a8"
            ],
            [
             0.3333333333333333,
             "#9c179e"
            ],
            [
             0.4444444444444444,
             "#bd3786"
            ],
            [
             0.5555555555555556,
             "#d8576b"
            ],
            [
             0.6666666666666666,
             "#ed7953"
            ],
            [
             0.7777777777777778,
             "#fb9f3a"
            ],
            [
             0.8888888888888888,
             "#fdca26"
            ],
            [
             1,
             "#f0f921"
            ]
           ]
          },
          "colorway": [
           "#636efa",
           "#EF553B",
           "#00cc96",
           "#ab63fa",
           "#FFA15A",
           "#19d3f3",
           "#FF6692",
           "#B6E880",
           "#FF97FF",
           "#FECB52"
          ],
          "font": {
           "color": "#2a3f5f"
          },
          "geo": {
           "bgcolor": "white",
           "lakecolor": "white",
           "landcolor": "#E5ECF6",
           "showlakes": true,
           "showland": true,
           "subunitcolor": "white"
          },
          "hoverlabel": {
           "align": "left"
          },
          "hovermode": "closest",
          "mapbox": {
           "style": "light"
          },
          "paper_bgcolor": "white",
          "plot_bgcolor": "#E5ECF6",
          "polar": {
           "angularaxis": {
            "gridcolor": "white",
            "linecolor": "white",
            "ticks": ""
           },
           "bgcolor": "#E5ECF6",
           "radialaxis": {
            "gridcolor": "white",
            "linecolor": "white",
            "ticks": ""
           }
          },
          "scene": {
           "xaxis": {
            "backgroundcolor": "#E5ECF6",
            "gridcolor": "white",
            "gridwidth": 2,
            "linecolor": "white",
            "showbackground": true,
            "ticks": "",
            "zerolinecolor": "white"
           },
           "yaxis": {
            "backgroundcolor": "#E5ECF6",
            "gridcolor": "white",
            "gridwidth": 2,
            "linecolor": "white",
            "showbackground": true,
            "ticks": "",
            "zerolinecolor": "white"
           },
           "zaxis": {
            "backgroundcolor": "#E5ECF6",
            "gridcolor": "white",
            "gridwidth": 2,
            "linecolor": "white",
            "showbackground": true,
            "ticks": "",
            "zerolinecolor": "white"
           }
          },
          "shapedefaults": {
           "line": {
            "color": "#2a3f5f"
           }
          },
          "ternary": {
           "aaxis": {
            "gridcolor": "white",
            "linecolor": "white",
            "ticks": ""
           },
           "baxis": {
            "gridcolor": "white",
            "linecolor": "white",
            "ticks": ""
           },
           "bgcolor": "#E5ECF6",
           "caxis": {
            "gridcolor": "white",
            "linecolor": "white",
            "ticks": ""
           }
          },
          "title": {
           "x": 0.05
          },
          "xaxis": {
           "automargin": true,
           "gridcolor": "white",
           "linecolor": "white",
           "ticks": "",
           "title": {
            "standoff": 15
           },
           "zerolinecolor": "white",
           "zerolinewidth": 2
          },
          "yaxis": {
           "automargin": true,
           "gridcolor": "white",
           "linecolor": "white",
           "ticks": "",
           "title": {
            "standoff": 15
           },
           "zerolinecolor": "white",
           "zerolinewidth": 2
          }
         }
        },
        "title": {
         "text": "Average Goals Per Season by Player with Standard Deviation"
        },
        "xaxis": {
         "anchor": "y",
         "domain": [
          0,
          1
         ],
         "title": {
          "text": "Player Name"
         }
        },
        "yaxis": {
         "anchor": "x",
         "domain": [
          0,
          1
         ],
         "title": {
          "text": "Average Goals Per Season"
         }
        }
       }
      }
     },
     "metadata": {},
     "output_type": "display_data"
    }
   ],
   "source": [
    "# Calculate the sum of goals per player per season\n",
    "season_player_stats = player_goals.groupby(['Player Name', 'Season'])['Goals'].sum().reset_index()\n",
    "\n",
    "# Calculate the mean and standard deviation of goals per season for each player\n",
    "season_player_avg_std = season_player_stats.groupby('Player Name')['Goals'].agg(['mean', 'std']).reset_index().sort_values(by='mean', ascending=False)\n",
    "season_player_avg_std.columns = ['Player Name', 'Average Goals Per Season', 'STD Goals Per Season']\n",
    "\n",
    "fig = px.scatter(\n",
    "    season_player_avg_std,\n",
    "    y='Average Goals Per Season',\n",
    "    x='Player Name',\n",
    "    error_y='STD Goals Per Season',\n",
    "    title='Average Goals Per Season by Player with Standard Deviation'\n",
    ")\n",
    "fig.show()\n"
   ]
  },
  {
   "cell_type": "code",
   "execution_count": 17,
   "metadata": {},
   "outputs": [
    {
     "data": {
      "image/png": "[encoded data removed]",
      "text/plain": [
       "<Figure size 1200x600 with 2 Axes>"
      ]
     },
     "metadata": {},
     "output_type": "display_data"
    }
   ],
   "source": [
    "# Filter data for 'Season' == 59\n",
    "season_59_data = player_goals[player_goals['Season'] == 59]\n",
    "\n",
    "# Sort data by the 'Date' column\n",
    "season_59_data = season_59_data.sort_values(by='Date')\n",
    "\n",
    "# Create a pivot table for the filtered and sorted data\n",
    "heatmap_data = season_59_data.pivot_table(values='Goals', index='Player Name', columns='Opponent Name', aggfunc='sum', fill_value=0)\n",
    "\n",
    "# Remove rows where all values are zero\n",
    "heatmap_data = heatmap_data.loc[~(heatmap_data == 0).all(axis=1)]\n",
    "\n",
    "# Order rows by the total number of goals scored (descending)\n",
    "heatmap_data['Total Goals'] = heatmap_data.sum(axis=1)\n",
    "heatmap_data = heatmap_data.sort_values(by='Total Goals', ascending=False)\n",
    "heatmap_data = heatmap_data.drop(columns='Total Goals')  # Remove the temporary 'Total Goals' column\n",
    "\n",
    "# Plot the heatmap\n",
    "plt.figure(figsize=(12, 6))\n",
    "sns.heatmap(heatmap_data, annot=True, cmap='Blues', linewidths=0.5, linecolor='gray', cbar_kws={'label': 'Goals'})\n",
    "plt.title('Goals Scored by Players Against Opponents (Season 59)')\n",
    "plt.xlabel('Opponent Name')\n",
    "plt.ylabel('Player Name')\n",
    "plt.tight_layout()\n",
    "plt.show()\n"
   ]
  }
 ],
 "metadata": {
  "kernelspec": {
   "display_name": "Python 3",
   "language": "python",
   "name": "python3"
  },
  "language_info": {
   "codemirror_mode": {
    "name": "ipython",
    "version": 3
   },
   "file_extension": ".py",
   "mimetype": "text/x-python",
   "name": "python",
   "nbconvert_exporter": "python",
   "pygments_lexer": "ipython3",
   "version": "3.12.0"
  }
 },
 "nbformat": 4,
 "nbformat_minor": 2
}
